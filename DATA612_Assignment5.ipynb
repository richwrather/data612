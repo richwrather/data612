{
  "nbformat": 4,
  "nbformat_minor": 0,
  "metadata": {
    "colab": {
      "name": "DATA612-Assignment5.ipynb",
      "provenance": [],
      "collapsed_sections": [],
      "authorship_tag": "ABX9TyMlz4E9zmsI6Ykx7+V8OAcb",
      "include_colab_link": true
    },
    "kernelspec": {
      "name": "python3",
      "display_name": "Python 3"
    },
    "language_info": {
      "name": "python"
    }
  },
  "cells": [
    {
      "cell_type": "markdown",
      "metadata": {
        "id": "view-in-github",
        "colab_type": "text"
      },
      "source": [
        "<a href=\"https://colab.research.google.com/github/richwrather/data612/blob/main/DATA612_Assignment5.ipynb\" target=\"_parent\"><img src=\"https://colab.research.google.com/assets/colab-badge.svg\" alt=\"Open In Colab\"/></a>"
      ]
    },
    {
      "cell_type": "markdown",
      "metadata": {
        "id": "W0aaJ9rtvUxe"
      },
      "source": [
        "##**Name: Richard Wrather**\n",
        "###**Assignment 5**"
      ]
    },
    {
      "cell_type": "markdown",
      "metadata": {
        "id": "ZEh3xcgQv_8Y"
      },
      "source": [
        "## Action Items:      \n",
        "•\tConvert data\n",
        "1. Work on your selected data set and covert a column of non-categorical type into a categorical type. \n",
        "2. Convert another column into a string type. \n",
        "3. Post your work on GitHub\n",
        "4. Add a README file"
      ]
    },
    {
      "cell_type": "code",
      "metadata": {
        "colab": {
          "base_uri": "https://localhost:8080/"
        },
        "id": "_JBcIYN0G8hn",
        "outputId": "23451b15-56b7-45dc-b2ed-caa595cce60c"
      },
      "source": [
        "import pandas as pd\n",
        "\n",
        "# Read in the stocks_yahoo.csv dataset from the Franklin GitHub repo.\n",
        "df = pd.read_csv(\"https://raw.githubusercontent.com/frankData612/data_612/master/stock_data/stocks_yahoo.csv\")\n",
        "\n",
        "# Print the data types of each feature\n",
        "df.dtypes"
      ],
      "execution_count": 1,
      "outputs": [
        {
          "output_type": "stream",
          "text": [
            "/usr/local/lib/python3.7/dist-packages/IPython/core/interactiveshell.py:2718: DtypeWarning: Columns (10) have mixed types.Specify dtype option on import or set low_memory=False.\n",
            "  interactivity=interactivity, compiler=compiler, result=result)\n"
          ],
          "name": "stderr"
        },
        {
          "output_type": "execute_result",
          "data": {
            "text/plain": [
              "no                     int64\n",
              "date                  object\n",
              "company_name          object\n",
              "price_at_close       float64\n",
              "price_change          object\n",
              "price_after_hours    float64\n",
              "previous_close       float64\n",
              "today opened         float64\n",
              "price range           object\n",
              "52 week range         object\n",
              "volume                object\n",
              "average volume       float64\n",
              "market cap            object\n",
              "beta (3Y Monthly)    float64\n",
              "PE Ratio             float64\n",
              "EPS                  float64\n",
              "earnings date         object\n",
              "Dividend Yield        object\n",
              "1Y target est        float64\n",
              "dtype: object"
            ]
          },
          "metadata": {
            "tags": []
          },
          "execution_count": 1
        }
      ]
    },
    {
      "cell_type": "code",
      "metadata": {
        "colab": {
          "base_uri": "https://localhost:8080/"
        },
        "id": "R31qDnG_Iv-Z",
        "outputId": "5b9a6033-44f5-4d41-e408-2164ee421bc3"
      },
      "source": [
        "# Convert the 'price_at_close' feature from a float to a category data type\n",
        "df[\"price_at_close\"] = df[\"price_at_close\"].astype('category')\n",
        "\n",
        "# Print the data types of each feature, including the new 'price_at_close' data type\n",
        "df.dtypes"
      ],
      "execution_count": 2,
      "outputs": [
        {
          "output_type": "execute_result",
          "data": {
            "text/plain": [
              "no                      int64\n",
              "date                   object\n",
              "company_name           object\n",
              "price_at_close       category\n",
              "price_change           object\n",
              "price_after_hours     float64\n",
              "previous_close        float64\n",
              "today opened          float64\n",
              "price range            object\n",
              "52 week range          object\n",
              "volume                 object\n",
              "average volume        float64\n",
              "market cap             object\n",
              "beta (3Y Monthly)     float64\n",
              "PE Ratio              float64\n",
              "EPS                   float64\n",
              "earnings date          object\n",
              "Dividend Yield         object\n",
              "1Y target est         float64\n",
              "dtype: object"
            ]
          },
          "metadata": {
            "tags": []
          },
          "execution_count": 2
        }
      ]
    },
    {
      "cell_type": "code",
      "metadata": {
        "colab": {
          "base_uri": "https://localhost:8080/"
        },
        "id": "H4Ka6GWrJaPz",
        "outputId": "4d8ce268-a4c6-4011-c8bc-8c03cd34cd8d"
      },
      "source": [
        "# Convert the 'no' feature from an int to a string\n",
        "df[\"no\"] = df[\"no\"].astype(str)\n",
        "\n",
        "# Print the data types of each feature, including the new 'no' data type\n",
        "df.dtypes"
      ],
      "execution_count": 3,
      "outputs": [
        {
          "output_type": "execute_result",
          "data": {
            "text/plain": [
              "no                     object\n",
              "date                   object\n",
              "company_name           object\n",
              "price_at_close       category\n",
              "price_change           object\n",
              "price_after_hours     float64\n",
              "previous_close        float64\n",
              "today opened          float64\n",
              "price range            object\n",
              "52 week range          object\n",
              "volume                 object\n",
              "average volume        float64\n",
              "market cap             object\n",
              "beta (3Y Monthly)     float64\n",
              "PE Ratio              float64\n",
              "EPS                   float64\n",
              "earnings date          object\n",
              "Dividend Yield         object\n",
              "1Y target est         float64\n",
              "dtype: object"
            ]
          },
          "metadata": {
            "tags": []
          },
          "execution_count": 3
        }
      ]
    },
    {
      "cell_type": "code",
      "metadata": {
        "colab": {
          "base_uri": "https://localhost:8080/"
        },
        "id": "FD9QpY68LraS",
        "outputId": "ffe04fe3-1a76-4c45-d0fb-5564a1c8df0c"
      },
      "source": [
        "# Convert the 'volume' feature from a string to a numeric data type using the 'coerce' option\n",
        "df[\"volume\"] = pd.to_numeric(df[\"volume\"].astype(str), errors='coerce')\n",
        "\n",
        "# Print the data types of each feature, including the new 'volume' data type\n",
        "df.dtypes"
      ],
      "execution_count": 4,
      "outputs": [
        {
          "output_type": "execute_result",
          "data": {
            "text/plain": [
              "no                     object\n",
              "date                   object\n",
              "company_name           object\n",
              "price_at_close       category\n",
              "price_change           object\n",
              "price_after_hours     float64\n",
              "previous_close        float64\n",
              "today opened          float64\n",
              "price range            object\n",
              "52 week range          object\n",
              "volume                float64\n",
              "average volume        float64\n",
              "market cap             object\n",
              "beta (3Y Monthly)     float64\n",
              "PE Ratio              float64\n",
              "EPS                   float64\n",
              "earnings date          object\n",
              "Dividend Yield         object\n",
              "1Y target est         float64\n",
              "dtype: object"
            ]
          },
          "metadata": {
            "tags": []
          },
          "execution_count": 4
        }
      ]
    }
  ]
}