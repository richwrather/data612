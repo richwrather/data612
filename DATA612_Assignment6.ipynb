{
  "nbformat": 4,
  "nbformat_minor": 0,
  "metadata": {
    "colab": {
      "name": "DATA612-Assignment6.ipynb",
      "provenance": [],
      "collapsed_sections": [],
      "authorship_tag": "ABX9TyMVkgKbLw4UWW4U65svOHBp",
      "include_colab_link": true
    },
    "kernelspec": {
      "name": "python3",
      "display_name": "Python 3"
    },
    "language_info": {
      "name": "python"
    }
  },
  "cells": [
    {
      "cell_type": "markdown",
      "metadata": {
        "id": "view-in-github",
        "colab_type": "text"
      },
      "source": [
        "<a href=\"https://colab.research.google.com/github/richwrather/data612/blob/main/DATA612_Assignment6.ipynb\" target=\"_parent\"><img src=\"https://colab.research.google.com/assets/colab-badge.svg\" alt=\"Open In Colab\"/></a>"
      ]
    },
    {
      "cell_type": "markdown",
      "metadata": {
        "id": "W0aaJ9rtvUxe"
      },
      "source": [
        "##**Name: Richard Wrather**\n",
        "###**Assignment 6**"
      ]
    },
    {
      "cell_type": "markdown",
      "metadata": {
        "id": "ZEh3xcgQv_8Y"
      },
      "source": [
        "## Action Items:       \n",
        "•\tWorking with strings.\n",
        "1. Clean a column on your data set using \n",
        "regular expression methods.      \n",
        "2. Store the cleaned column into another column of your data set and call it “your_col_name_cleaned”.     \n",
        "\n",
        "  *Another data set will be provided if your data set is not appropriate to apply regular expression methods.        \n",
        "\n",
        "•\tUse of .apply() \n",
        "\n",
        "1.   Create a function that returns the mean, sum, mode, median, and range (separately)      \n",
        "2.   Run the function into your chosen data set using the .apply() method.     \n",
        "3.   Post your work on GitHub"
      ]
    },
    {
      "cell_type": "code",
      "metadata": {
        "id": "_JBcIYN0G8hn",
        "colab": {
          "base_uri": "https://localhost:8080/"
        },
        "outputId": "7201b3d4-4a19-4f8a-e176-b47bb6974fe6"
      },
      "source": [
        "import pandas as pd\n",
        "\n",
        "# Read in the stocks_yahoo.csv dataset from the Franklin GitHub repo.\n",
        "df = pd.read_csv(\"https://raw.githubusercontent.com/frankData612/data_612/master/stock_data/stocks_yahoo.csv\")\n",
        "\n",
        "# Subset the Apple data into a new Data Frame\n",
        "apple = df[df[\"company_name\"] == \"AAPL - Apple Inc.\"]\n",
        "\n",
        "# Drop the rows that have an empty values in the 'Dividend Yield' column\n",
        "apple.dropna(subset=[\"Dividend Yield\"], inplace = True)"
      ],
      "execution_count": 1,
      "outputs": [
        {
          "output_type": "stream",
          "text": [
            "/usr/local/lib/python3.7/dist-packages/IPython/core/interactiveshell.py:2718: DtypeWarning: Columns (10) have mixed types.Specify dtype option on import or set low_memory=False.\n",
            "  interactivity=interactivity, compiler=compiler, result=result)\n",
            "/usr/local/lib/python3.7/dist-packages/ipykernel_launcher.py:10: SettingWithCopyWarning: \n",
            "A value is trying to be set on a copy of a slice from a DataFrame\n",
            "\n",
            "See the caveats in the documentation: https://pandas.pydata.org/pandas-docs/stable/user_guide/indexing.html#returning-a-view-versus-a-copy\n",
            "  # Remove the CWD from sys.path while we load stuff.\n"
          ],
          "name": "stderr"
        }
      ]
    },
    {
      "cell_type": "code",
      "metadata": {
        "id": "YDisl7zmVE0w",
        "colab": {
          "base_uri": "https://localhost:8080/",
          "height": 623
        },
        "outputId": "40eaa040-b347-40f4-b600-041158996b13"
      },
      "source": [
        "import re\n",
        "\n",
        "# Define function to use a regular expression to substitute values\n",
        "def split_it(data):\n",
        "\n",
        "    # Pattern match '(d.dd%)' to remove it from the 'Dividend Yield' column.\n",
        "    x = re.sub(pattern='\\s\\(+\\d+\\.\\d{2}\\%\\)', string=data, repl='')\n",
        "\n",
        "     # Return the updated Dividend Yield value without the '(d.dd%)'\n",
        "    return x\n",
        "\n",
        "# Use the apply function to pass the Dividend Yield series into the split_it() function.\n",
        "apple['Dividend_Yield_cleaned'] = apple['Dividend Yield'].apply(split_it)\n",
        "\n",
        "# Print the updated data frame with the new 'Dividend_Yield_cleaned' column\n",
        "apple.head()"
      ],
      "execution_count": 2,
      "outputs": [
        {
          "output_type": "stream",
          "text": [
            "/usr/local/lib/python3.7/dist-packages/ipykernel_launcher.py:13: SettingWithCopyWarning: \n",
            "A value is trying to be set on a copy of a slice from a DataFrame.\n",
            "Try using .loc[row_indexer,col_indexer] = value instead\n",
            "\n",
            "See the caveats in the documentation: https://pandas.pydata.org/pandas-docs/stable/user_guide/indexing.html#returning-a-view-versus-a-copy\n",
            "  del sys.path[0]\n"
          ],
          "name": "stderr"
        },
        {
          "output_type": "execute_result",
          "data": {
            "text/html": [
              "<div>\n",
              "<style scoped>\n",
              "    .dataframe tbody tr th:only-of-type {\n",
              "        vertical-align: middle;\n",
              "    }\n",
              "\n",
              "    .dataframe tbody tr th {\n",
              "        vertical-align: top;\n",
              "    }\n",
              "\n",
              "    .dataframe thead th {\n",
              "        text-align: right;\n",
              "    }\n",
              "</style>\n",
              "<table border=\"1\" class=\"dataframe\">\n",
              "  <thead>\n",
              "    <tr style=\"text-align: right;\">\n",
              "      <th></th>\n",
              "      <th>no</th>\n",
              "      <th>date</th>\n",
              "      <th>company_name</th>\n",
              "      <th>price_at_close</th>\n",
              "      <th>price_change</th>\n",
              "      <th>price_after_hours</th>\n",
              "      <th>previous_close</th>\n",
              "      <th>today opened</th>\n",
              "      <th>price range</th>\n",
              "      <th>52 week range</th>\n",
              "      <th>volume</th>\n",
              "      <th>average volume</th>\n",
              "      <th>market cap</th>\n",
              "      <th>beta (3Y Monthly)</th>\n",
              "      <th>PE Ratio</th>\n",
              "      <th>EPS</th>\n",
              "      <th>earnings date</th>\n",
              "      <th>Dividend Yield</th>\n",
              "      <th>1Y target est</th>\n",
              "      <th>Dividend_Yield_cleaned</th>\n",
              "    </tr>\n",
              "  </thead>\n",
              "  <tbody>\n",
              "    <tr>\n",
              "      <th>4</th>\n",
              "      <td>5</td>\n",
              "      <td>Nov 21 2019</td>\n",
              "      <td>AAPL - Apple Inc.</td>\n",
              "      <td>262.01</td>\n",
              "      <td>-1.18 (-0.45%)</td>\n",
              "      <td>262.01</td>\n",
              "      <td>263.19</td>\n",
              "      <td>263.69</td>\n",
              "      <td>261.18 - 264.01</td>\n",
              "      <td>142.00 - 268.00</td>\n",
              "      <td>2.87681e+07</td>\n",
              "      <td>25813040.0</td>\n",
              "      <td>1.184T</td>\n",
              "      <td>1.25</td>\n",
              "      <td>22.04</td>\n",
              "      <td>11.89</td>\n",
              "      <td>Jan 27, 2020 - Jan 31, 2020</td>\n",
              "      <td>3.08 (1.16%)</td>\n",
              "      <td>257.21</td>\n",
              "      <td>3.08</td>\n",
              "    </tr>\n",
              "    <tr>\n",
              "      <th>60</th>\n",
              "      <td>61</td>\n",
              "      <td>Nov 22 2019</td>\n",
              "      <td>AAPL - Apple Inc.</td>\n",
              "      <td>261.78</td>\n",
              "      <td>-0.23 (-0.09%)</td>\n",
              "      <td>261.78</td>\n",
              "      <td>262.01</td>\n",
              "      <td>262.59</td>\n",
              "      <td>260.84 - 263.18</td>\n",
              "      <td>142.00 - 268.00</td>\n",
              "      <td>1.63313e+07</td>\n",
              "      <td>25529482.0</td>\n",
              "      <td>1.183T</td>\n",
              "      <td>1.25</td>\n",
              "      <td>22.02</td>\n",
              "      <td>11.89</td>\n",
              "      <td>Jan 27, 2020 - Jan 31, 2020</td>\n",
              "      <td>3.08 (1.18%)</td>\n",
              "      <td>255.51</td>\n",
              "      <td>3.08</td>\n",
              "    </tr>\n",
              "    <tr>\n",
              "      <th>264</th>\n",
              "      <td>265</td>\n",
              "      <td>Nov 25 2019</td>\n",
              "      <td>AAPL - Apple Inc.</td>\n",
              "      <td>266.37</td>\n",
              "      <td>+4.59 (+1.75%)</td>\n",
              "      <td>266.37</td>\n",
              "      <td>261.78</td>\n",
              "      <td>262.71</td>\n",
              "      <td>262.52 - 266.43</td>\n",
              "      <td>142.00 - 268.00</td>\n",
              "      <td>2.10295e+07</td>\n",
              "      <td>25530009.0</td>\n",
              "      <td>1.204T</td>\n",
              "      <td>1.25</td>\n",
              "      <td>22.40</td>\n",
              "      <td>11.89</td>\n",
              "      <td>Jan 27, 2020 - Jan 31, 2020</td>\n",
              "      <td>3.08 (1.18%)</td>\n",
              "      <td>257.21</td>\n",
              "      <td>3.08</td>\n",
              "    </tr>\n",
              "    <tr>\n",
              "      <th>618</th>\n",
              "      <td>619</td>\n",
              "      <td>Dec 04 2019</td>\n",
              "      <td>AAPL - Apple Inc.</td>\n",
              "      <td>261.74</td>\n",
              "      <td>+2.29 (+0.88%)</td>\n",
              "      <td>261.74</td>\n",
              "      <td>259.45</td>\n",
              "      <td>261.07</td>\n",
              "      <td>260.68 - 263.31</td>\n",
              "      <td>142.00 - 268.25</td>\n",
              "      <td>1.58742e+07</td>\n",
              "      <td>25490745.0</td>\n",
              "      <td>1.183T</td>\n",
              "      <td>1.25</td>\n",
              "      <td>22.01</td>\n",
              "      <td>11.89</td>\n",
              "      <td>Jan 27, 2020 - Jan 31, 2020</td>\n",
              "      <td>3.08 (1.19%)</td>\n",
              "      <td>257.36</td>\n",
              "      <td>3.08</td>\n",
              "    </tr>\n",
              "    <tr>\n",
              "      <th>763</th>\n",
              "      <td>764</td>\n",
              "      <td>Dec 05 2019</td>\n",
              "      <td>AAPL - Apple Inc.</td>\n",
              "      <td>265.58</td>\n",
              "      <td>+3.84 (+1.47%)</td>\n",
              "      <td>265.58</td>\n",
              "      <td>261.74</td>\n",
              "      <td>263.79</td>\n",
              "      <td>262.73 - 265.89</td>\n",
              "      <td>142.00 - 268.25</td>\n",
              "      <td>1.71999e+07</td>\n",
              "      <td>25453359.0</td>\n",
              "      <td>1.2T</td>\n",
              "      <td>1.23</td>\n",
              "      <td>22.34</td>\n",
              "      <td>11.89</td>\n",
              "      <td>Jan 27, 2020 - Jan 31, 2020</td>\n",
              "      <td>3.08 (1.18%)</td>\n",
              "      <td>257.36</td>\n",
              "      <td>3.08</td>\n",
              "    </tr>\n",
              "  </tbody>\n",
              "</table>\n",
              "</div>"
            ],
            "text/plain": [
              "      no         date  ... 1Y target est  Dividend_Yield_cleaned\n",
              "4      5  Nov 21 2019  ...        257.21                    3.08\n",
              "60    61  Nov 22 2019  ...        255.51                    3.08\n",
              "264  265  Nov 25 2019  ...        257.21                    3.08\n",
              "618  619  Dec 04 2019  ...        257.36                    3.08\n",
              "763  764  Dec 05 2019  ...        257.36                    3.08\n",
              "\n",
              "[5 rows x 20 columns]"
            ]
          },
          "metadata": {
            "tags": []
          },
          "execution_count": 2
        }
      ]
    },
    {
      "cell_type": "code",
      "metadata": {
        "id": "BDanIjwHVWXe",
        "colab": {
          "base_uri": "https://localhost:8080/"
        },
        "outputId": "2a9e69e2-02c2-47a5-fed9-acbede41702d"
      },
      "source": [
        "import statistics\n",
        "from statistics import StatisticsError\n",
        "import numpy as np\n",
        "\n",
        "# Read in the stocks_yahoo.csv dataset from the Franklin GitHub repo.\n",
        "df = pd.read_csv(\"https://raw.githubusercontent.com/frankData612/data_612/master/stock_data/stocks_yahoo.csv\")\n",
        "\n",
        "# Subset the Apple data into a new Data Frame\n",
        "apple = df[df[\"company_name\"] == \"AAPL - Apple Inc.\"]\n",
        "\n",
        "# Drop the rows that have an empty values in the 'price_at_close' column\n",
        "apple.dropna(subset=[\"price_at_close\"], inplace = True)\n",
        "\n",
        "# Create a function that will print the mean, sum, mode, median, \n",
        "# and range of a given series.\n",
        "def getstats(data):\n",
        "\n",
        "    # Print the mean of the data\n",
        "    print(\"Mean = ${:,.2f}\".format(statistics.mean(data)))\n",
        "\n",
        "    # Print the sum of the data\n",
        "    print(\"Sum = ${:,.2f}\".format(np.sum(data)))\n",
        "    \n",
        "    # Print the mode of the data.  If no unique mode found, print the error message\n",
        "    try:\n",
        "      print(\"Mode = ${:,.2f}\".format(statistics.mode(data)))\n",
        "    except StatisticsError as e:\n",
        "      print(\"Mode = {}\".format(str(e)))\n",
        "\n",
        "    # Print the median of the data\n",
        "    print(\"Median = ${:,.2f}\".format(statistics.median(data)))\n",
        "\n",
        "    # Print the range of the data\n",
        "    print(\"Range = ${:,.2f} - ${:,.2f}\".format(min(data), max(data)))\n",
        "\n",
        "# Convert the \"price_at_close\" series to a data frame \n",
        "# and pass it to the getstats function.\n",
        "apple[\"price_at_close\"].to_frame().apply(getstats)"
      ],
      "execution_count": 3,
      "outputs": [
        {
          "output_type": "stream",
          "text": [
            "Mean = $282.07\n",
            "Sum = $25,386.46\n",
            "Mode = no unique mode; found 90 equally common values\n",
            "Median = $279.94\n",
            "Range = $224.37 - $327.20\n"
          ],
          "name": "stdout"
        },
        {
          "output_type": "stream",
          "text": [
            "/usr/local/lib/python3.7/dist-packages/IPython/core/interactiveshell.py:2718: DtypeWarning: Columns (10) have mixed types.Specify dtype option on import or set low_memory=False.\n",
            "  interactivity=interactivity, compiler=compiler, result=result)\n",
            "/usr/local/lib/python3.7/dist-packages/ipykernel_launcher.py:12: SettingWithCopyWarning: \n",
            "A value is trying to be set on a copy of a slice from a DataFrame\n",
            "\n",
            "See the caveats in the documentation: https://pandas.pydata.org/pandas-docs/stable/user_guide/indexing.html#returning-a-view-versus-a-copy\n",
            "  if sys.path[0] == '':\n"
          ],
          "name": "stderr"
        },
        {
          "output_type": "execute_result",
          "data": {
            "text/plain": [
              "price_at_close    None\n",
              "dtype: object"
            ]
          },
          "metadata": {
            "tags": []
          },
          "execution_count": 3
        }
      ]
    }
  ]
}