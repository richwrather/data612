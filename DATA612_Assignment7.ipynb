{
  "nbformat": 4,
  "nbformat_minor": 0,
  "metadata": {
    "colab": {
      "name": "DATA612-Assignment7.ipynb",
      "provenance": [],
      "collapsed_sections": [],
      "authorship_tag": "ABX9TyOV3GUTfq3jeDM7qrObzEvL",
      "include_colab_link": true
    },
    "kernelspec": {
      "name": "python3",
      "display_name": "Python 3"
    },
    "language_info": {
      "name": "python"
    }
  },
  "cells": [
    {
      "cell_type": "markdown",
      "metadata": {
        "id": "view-in-github",
        "colab_type": "text"
      },
      "source": [
        "<a href=\"https://colab.research.google.com/github/richwrather/data612/blob/main/DATA612_Assignment7.ipynb\" target=\"_parent\"><img src=\"https://colab.research.google.com/assets/colab-badge.svg\" alt=\"Open In Colab\"/></a>"
      ]
    },
    {
      "cell_type": "markdown",
      "metadata": {
        "id": "W0aaJ9rtvUxe"
      },
      "source": [
        "##**Name: Richard Wrather**\n",
        "###**Assignment 7**"
      ]
    },
    {
      "cell_type": "code",
      "metadata": {
        "colab": {
          "base_uri": "https://localhost:8080/",
          "height": 205
        },
        "id": "fDUSKc5WyCQv",
        "outputId": "c1f30bcd-84e7-4a41-e85b-71086b77c2c3"
      },
      "source": [
        "import pandas as pd\n",
        "\n",
        "# the mpg data is used for demonstration\n",
        "df = pd.read_csv(\"https://raw.githubusercontent.com/franklin-univ-data-science/data/master/mpg.csv\")\n",
        "df.head()"
      ],
      "execution_count": 1,
      "outputs": [
        {
          "output_type": "execute_result",
          "data": {
            "text/html": [
              "<div>\n",
              "<style scoped>\n",
              "    .dataframe tbody tr th:only-of-type {\n",
              "        vertical-align: middle;\n",
              "    }\n",
              "\n",
              "    .dataframe tbody tr th {\n",
              "        vertical-align: top;\n",
              "    }\n",
              "\n",
              "    .dataframe thead th {\n",
              "        text-align: right;\n",
              "    }\n",
              "</style>\n",
              "<table border=\"1\" class=\"dataframe\">\n",
              "  <thead>\n",
              "    <tr style=\"text-align: right;\">\n",
              "      <th></th>\n",
              "      <th>mpg</th>\n",
              "      <th>cylinders</th>\n",
              "      <th>displacement</th>\n",
              "      <th>acceleration</th>\n",
              "      <th>model</th>\n",
              "      <th>origin</th>\n",
              "    </tr>\n",
              "  </thead>\n",
              "  <tbody>\n",
              "    <tr>\n",
              "      <th>0</th>\n",
              "      <td>18.0</td>\n",
              "      <td>8</td>\n",
              "      <td>307.0</td>\n",
              "      <td>12.0</td>\n",
              "      <td>70</td>\n",
              "      <td>1</td>\n",
              "    </tr>\n",
              "    <tr>\n",
              "      <th>1</th>\n",
              "      <td>15.0</td>\n",
              "      <td>8</td>\n",
              "      <td>350.0</td>\n",
              "      <td>11.5</td>\n",
              "      <td>70</td>\n",
              "      <td>1</td>\n",
              "    </tr>\n",
              "    <tr>\n",
              "      <th>2</th>\n",
              "      <td>18.0</td>\n",
              "      <td>8</td>\n",
              "      <td>318.0</td>\n",
              "      <td>11.0</td>\n",
              "      <td>70</td>\n",
              "      <td>1</td>\n",
              "    </tr>\n",
              "    <tr>\n",
              "      <th>3</th>\n",
              "      <td>16.0</td>\n",
              "      <td>8</td>\n",
              "      <td>304.0</td>\n",
              "      <td>12.0</td>\n",
              "      <td>70</td>\n",
              "      <td>1</td>\n",
              "    </tr>\n",
              "    <tr>\n",
              "      <th>4</th>\n",
              "      <td>17.0</td>\n",
              "      <td>8</td>\n",
              "      <td>302.0</td>\n",
              "      <td>10.5</td>\n",
              "      <td>70</td>\n",
              "      <td>1</td>\n",
              "    </tr>\n",
              "  </tbody>\n",
              "</table>\n",
              "</div>"
            ],
            "text/plain": [
              "    mpg  cylinders  displacement  acceleration  model  origin\n",
              "0  18.0          8         307.0          12.0     70       1\n",
              "1  15.0          8         350.0          11.5     70       1\n",
              "2  18.0          8         318.0          11.0     70       1\n",
              "3  16.0          8         304.0          12.0     70       1\n",
              "4  17.0          8         302.0          10.5     70       1"
            ]
          },
          "metadata": {
            "tags": []
          },
          "execution_count": 1
        }
      ]
    },
    {
      "cell_type": "code",
      "metadata": {
        "colab": {
          "base_uri": "https://localhost:8080/",
          "height": 236
        },
        "id": "XLfC_xXbyWCW",
        "outputId": "175043d1-1938-4d58-be68-c97b661146a3"
      },
      "source": [
        "def summarize_data(g):  \n",
        "  return(\n",
        "    pd.Series({\n",
        "      \"avg_MPG\": g.mpg.mean(),\n",
        "      \"min_MPG\": g.mpg.min(),\n",
        "      \"max_MPG\": g.mpg.max(),\n",
        "      \"sample_count\": len(g),\n",
        "      \"mix\": g.cylinders.sum()/df.cylinders.sum(),\n",
        "    })\n",
        "  )\n",
        "\n",
        "df.groupby(\"cylinders\").apply(summarize_data)"
      ],
      "execution_count": 2,
      "outputs": [
        {
          "output_type": "execute_result",
          "data": {
            "text/html": [
              "<div>\n",
              "<style scoped>\n",
              "    .dataframe tbody tr th:only-of-type {\n",
              "        vertical-align: middle;\n",
              "    }\n",
              "\n",
              "    .dataframe tbody tr th {\n",
              "        vertical-align: top;\n",
              "    }\n",
              "\n",
              "    .dataframe thead th {\n",
              "        text-align: right;\n",
              "    }\n",
              "</style>\n",
              "<table border=\"1\" class=\"dataframe\">\n",
              "  <thead>\n",
              "    <tr style=\"text-align: right;\">\n",
              "      <th></th>\n",
              "      <th>avg_MPG</th>\n",
              "      <th>min_MPG</th>\n",
              "      <th>max_MPG</th>\n",
              "      <th>sample_count</th>\n",
              "      <th>mix</th>\n",
              "    </tr>\n",
              "    <tr>\n",
              "      <th>cylinders</th>\n",
              "      <th></th>\n",
              "      <th></th>\n",
              "      <th></th>\n",
              "      <th></th>\n",
              "      <th></th>\n",
              "    </tr>\n",
              "  </thead>\n",
              "  <tbody>\n",
              "    <tr>\n",
              "      <th>3</th>\n",
              "      <td>20.550000</td>\n",
              "      <td>18.0</td>\n",
              "      <td>23.7</td>\n",
              "      <td>4.0</td>\n",
              "      <td>0.005398</td>\n",
              "    </tr>\n",
              "    <tr>\n",
              "      <th>4</th>\n",
              "      <td>29.286765</td>\n",
              "      <td>18.0</td>\n",
              "      <td>46.6</td>\n",
              "      <td>207.0</td>\n",
              "      <td>0.372470</td>\n",
              "    </tr>\n",
              "    <tr>\n",
              "      <th>5</th>\n",
              "      <td>27.366667</td>\n",
              "      <td>20.3</td>\n",
              "      <td>36.4</td>\n",
              "      <td>3.0</td>\n",
              "      <td>0.006748</td>\n",
              "    </tr>\n",
              "    <tr>\n",
              "      <th>6</th>\n",
              "      <td>19.985714</td>\n",
              "      <td>15.0</td>\n",
              "      <td>38.0</td>\n",
              "      <td>84.0</td>\n",
              "      <td>0.226721</td>\n",
              "    </tr>\n",
              "    <tr>\n",
              "      <th>8</th>\n",
              "      <td>14.963107</td>\n",
              "      <td>9.0</td>\n",
              "      <td>26.6</td>\n",
              "      <td>108.0</td>\n",
              "      <td>0.388664</td>\n",
              "    </tr>\n",
              "  </tbody>\n",
              "</table>\n",
              "</div>"
            ],
            "text/plain": [
              "             avg_MPG  min_MPG  max_MPG  sample_count       mix\n",
              "cylinders                                                     \n",
              "3          20.550000     18.0     23.7           4.0  0.005398\n",
              "4          29.286765     18.0     46.6         207.0  0.372470\n",
              "5          27.366667     20.3     36.4           3.0  0.006748\n",
              "6          19.985714     15.0     38.0          84.0  0.226721\n",
              "8          14.963107      9.0     26.6         108.0  0.388664"
            ]
          },
          "metadata": {
            "tags": []
          },
          "execution_count": 2
        }
      ]
    },
    {
      "cell_type": "markdown",
      "metadata": {
        "id": "ZEh3xcgQv_8Y"
      },
      "source": [
        "## Tasks   \n",
        "  1. Read the `summarize_data()` and explain the difference between g and df.\n",
        "\n",
        "  2. Select the measure and dimention variables from your dataframe, apply the `summarize_data()` and modify as needed based on your preferences.    \n",
        "\n",
        "  3. Write 1-3 paragraphs to explain the differences or challenges when you applied the function to your chosen dataframe.\n",
        "\n",
        "  4. Post your version of the above code on your GitHub account. Do not forget a README file with explanations."
      ]
    },
    {
      "cell_type": "markdown",
      "metadata": {
        "id": "HnEmTDgr3EH9"
      },
      "source": [
        "###1. Read the `summarize_data()` and explain the difference between g and df."
      ]
    },
    {
      "cell_type": "markdown",
      "metadata": {
        "id": "eSiPeNWv3L10"
      },
      "source": [
        "\"df\" is the original flattened data set read in from github.  The data type is a Data Frame and nothing has been grouped.  \"g\" is the grouped version of the original data set, grouped by cylinders. The data type is a pandas.core.groupby.generic.DataFrameGroupBy."
      ]
    },
    {
      "cell_type": "markdown",
      "metadata": {
        "id": "5IFL00pc8WHi"
      },
      "source": [
        "###2. Select the measure and dimention variables from your dataframe, apply the `summarize_data()` and modify as needed based on your preferences."
      ]
    },
    {
      "cell_type": "code",
      "metadata": {
        "colab": {
          "base_uri": "https://localhost:8080/",
          "height": 553
        },
        "id": "0iYFzy3IOMdS",
        "outputId": "0dc748b5-24c7-4dfe-9599-5a324feb579b"
      },
      "source": [
        "import pandas as pd\n",
        "\n",
        "# Read in the stocks_yahoo.csv dataset from the Franklin GitHub repo.\n",
        "df = pd.read_csv(\"https://raw.githubusercontent.com/frankData612/data_612/master/stock_data/stocks_yahoo.csv\")\n",
        "df.head()"
      ],
      "execution_count": 3,
      "outputs": [
        {
          "output_type": "stream",
          "text": [
            "/usr/local/lib/python3.7/dist-packages/IPython/core/interactiveshell.py:2718: DtypeWarning: Columns (10) have mixed types.Specify dtype option on import or set low_memory=False.\n",
            "  interactivity=interactivity, compiler=compiler, result=result)\n"
          ],
          "name": "stderr"
        },
        {
          "output_type": "execute_result",
          "data": {
            "text/html": [
              "<div>\n",
              "<style scoped>\n",
              "    .dataframe tbody tr th:only-of-type {\n",
              "        vertical-align: middle;\n",
              "    }\n",
              "\n",
              "    .dataframe tbody tr th {\n",
              "        vertical-align: top;\n",
              "    }\n",
              "\n",
              "    .dataframe thead th {\n",
              "        text-align: right;\n",
              "    }\n",
              "</style>\n",
              "<table border=\"1\" class=\"dataframe\">\n",
              "  <thead>\n",
              "    <tr style=\"text-align: right;\">\n",
              "      <th></th>\n",
              "      <th>no</th>\n",
              "      <th>date</th>\n",
              "      <th>company_name</th>\n",
              "      <th>price_at_close</th>\n",
              "      <th>price_change</th>\n",
              "      <th>price_after_hours</th>\n",
              "      <th>previous_close</th>\n",
              "      <th>today opened</th>\n",
              "      <th>price range</th>\n",
              "      <th>52 week range</th>\n",
              "      <th>volume</th>\n",
              "      <th>average volume</th>\n",
              "      <th>market cap</th>\n",
              "      <th>beta (3Y Monthly)</th>\n",
              "      <th>PE Ratio</th>\n",
              "      <th>EPS</th>\n",
              "      <th>earnings date</th>\n",
              "      <th>Dividend Yield</th>\n",
              "      <th>1Y target est</th>\n",
              "    </tr>\n",
              "  </thead>\n",
              "  <tbody>\n",
              "    <tr>\n",
              "      <th>0</th>\n",
              "      <td>1</td>\n",
              "      <td>Nov 21 2019</td>\n",
              "      <td>GOOG - Alphabet Inc.</td>\n",
              "      <td>1301.35</td>\n",
              "      <td>-1.70 (-0.13%)</td>\n",
              "      <td>1301.35</td>\n",
              "      <td>1303.05</td>\n",
              "      <td>1301.48</td>\n",
              "      <td>1,293.01 - 1,312.45</td>\n",
              "      <td>970.11 - 1,335.53</td>\n",
              "      <td>825205</td>\n",
              "      <td>1280155.0</td>\n",
              "      <td>897.113B</td>\n",
              "      <td>1.01</td>\n",
              "      <td>27.93</td>\n",
              "      <td>46.60</td>\n",
              "      <td>NaN</td>\n",
              "      <td>N/A (N/A)</td>\n",
              "      <td>1487.52</td>\n",
              "    </tr>\n",
              "    <tr>\n",
              "      <th>1</th>\n",
              "      <td>2</td>\n",
              "      <td>Nov 21 2019</td>\n",
              "      <td>GOOGL - Alphabet Inc.</td>\n",
              "      <td>1300.14</td>\n",
              "      <td>-1.72 (-0.13%)</td>\n",
              "      <td>1300.14</td>\n",
              "      <td>1301.86</td>\n",
              "      <td>1299.25</td>\n",
              "      <td>1,290.75 - 1,311.04</td>\n",
              "      <td>977.66 - 1,333.92</td>\n",
              "      <td>1.05818e+06</td>\n",
              "      <td>1296875.0</td>\n",
              "      <td>897.098B</td>\n",
              "      <td>1.01</td>\n",
              "      <td>27.90</td>\n",
              "      <td>46.60</td>\n",
              "      <td>Feb 3, 2020 - Feb 7, 2020</td>\n",
              "      <td>N/A (N/A)</td>\n",
              "      <td>1459.33</td>\n",
              "    </tr>\n",
              "    <tr>\n",
              "      <th>2</th>\n",
              "      <td>3</td>\n",
              "      <td>Nov 21 2019</td>\n",
              "      <td>IBM - International Business Machines Corporation</td>\n",
              "      <td>133.84</td>\n",
              "      <td>+0.64 (+0.48%)</td>\n",
              "      <td>133.84</td>\n",
              "      <td>133.20</td>\n",
              "      <td>133.40</td>\n",
              "      <td>132.98 - 134.17</td>\n",
              "      <td>105.94 - 152.95</td>\n",
              "      <td>2.73226e+06</td>\n",
              "      <td>3483052.0</td>\n",
              "      <td>118.534B</td>\n",
              "      <td>1.34</td>\n",
              "      <td>15.55</td>\n",
              "      <td>8.60</td>\n",
              "      <td>21-Jan-20</td>\n",
              "      <td>6.48 (4.86%)</td>\n",
              "      <td>148.30</td>\n",
              "    </tr>\n",
              "    <tr>\n",
              "      <th>3</th>\n",
              "      <td>4</td>\n",
              "      <td>Nov 21 2019</td>\n",
              "      <td>MSFT - Microsoft Corporation</td>\n",
              "      <td>149.48</td>\n",
              "      <td>-0.14 (-0.09%)</td>\n",
              "      <td>149.48</td>\n",
              "      <td>149.62</td>\n",
              "      <td>149.40</td>\n",
              "      <td>148.51 - 149.80</td>\n",
              "      <td>93.96 - 151.33</td>\n",
              "      <td>1.61251e+07</td>\n",
              "      <td>22813109.0</td>\n",
              "      <td>1.14T</td>\n",
              "      <td>1.23</td>\n",
              "      <td>28.20</td>\n",
              "      <td>5.30</td>\n",
              "      <td>Jan 28, 2020 - Feb 3, 2020</td>\n",
              "      <td>2.04 (1.36%)</td>\n",
              "      <td>160.16</td>\n",
              "    </tr>\n",
              "    <tr>\n",
              "      <th>4</th>\n",
              "      <td>5</td>\n",
              "      <td>Nov 21 2019</td>\n",
              "      <td>AAPL - Apple Inc.</td>\n",
              "      <td>262.01</td>\n",
              "      <td>-1.18 (-0.45%)</td>\n",
              "      <td>262.01</td>\n",
              "      <td>263.19</td>\n",
              "      <td>263.69</td>\n",
              "      <td>261.18 - 264.01</td>\n",
              "      <td>142.00 - 268.00</td>\n",
              "      <td>2.87681e+07</td>\n",
              "      <td>25813040.0</td>\n",
              "      <td>1.184T</td>\n",
              "      <td>1.25</td>\n",
              "      <td>22.04</td>\n",
              "      <td>11.89</td>\n",
              "      <td>Jan 27, 2020 - Jan 31, 2020</td>\n",
              "      <td>3.08 (1.16%)</td>\n",
              "      <td>257.21</td>\n",
              "    </tr>\n",
              "  </tbody>\n",
              "</table>\n",
              "</div>"
            ],
            "text/plain": [
              "   no         date  ... Dividend Yield  1Y target est\n",
              "0   1  Nov 21 2019  ...      N/A (N/A)        1487.52\n",
              "1   2  Nov 21 2019  ...      N/A (N/A)        1459.33\n",
              "2   3  Nov 21 2019  ...   6.48 (4.86%)         148.30\n",
              "3   4  Nov 21 2019  ...   2.04 (1.36%)         160.16\n",
              "4   5  Nov 21 2019  ...   3.08 (1.16%)         257.21\n",
              "\n",
              "[5 rows x 19 columns]"
            ]
          },
          "metadata": {
            "tags": []
          },
          "execution_count": 3
        }
      ]
    },
    {
      "cell_type": "code",
      "metadata": {
        "colab": {
          "base_uri": "https://localhost:8080/",
          "height": 453
        },
        "id": "xZbTVh2kOQ66",
        "outputId": "257c7152-c7ad-46a7-cd0d-7f87c2ad284d"
      },
      "source": [
        "def summarize_data(g):  \n",
        "  return(\n",
        "    pd.Series({\n",
        "      \"avg_price_at_close\": g.price_at_close.mean(),\n",
        "      \"min_price_at_close\": g.price_at_close.min(),\n",
        "      \"max_price_at_close\": g.price_at_close.max(),\n",
        "      \"sample_count\": len(g),\n",
        "      \"mix\": g.price_at_close.sum()/df.price_at_close.sum(),\n",
        "    })\n",
        "  )\n",
        "\n",
        "df.groupby(\"company_name\").apply(summarize_data)"
      ],
      "execution_count": 4,
      "outputs": [
        {
          "output_type": "execute_result",
          "data": {
            "text/html": [
              "<div>\n",
              "<style scoped>\n",
              "    .dataframe tbody tr th:only-of-type {\n",
              "        vertical-align: middle;\n",
              "    }\n",
              "\n",
              "    .dataframe tbody tr th {\n",
              "        vertical-align: top;\n",
              "    }\n",
              "\n",
              "    .dataframe thead th {\n",
              "        text-align: right;\n",
              "    }\n",
              "</style>\n",
              "<table border=\"1\" class=\"dataframe\">\n",
              "  <thead>\n",
              "    <tr style=\"text-align: right;\">\n",
              "      <th></th>\n",
              "      <th>avg_price_at_close</th>\n",
              "      <th>min_price_at_close</th>\n",
              "      <th>max_price_at_close</th>\n",
              "      <th>sample_count</th>\n",
              "      <th>mix</th>\n",
              "    </tr>\n",
              "    <tr>\n",
              "      <th>company_name</th>\n",
              "      <th></th>\n",
              "      <th></th>\n",
              "      <th></th>\n",
              "      <th></th>\n",
              "      <th></th>\n",
              "    </tr>\n",
              "  </thead>\n",
              "  <tbody>\n",
              "    <tr>\n",
              "      <th>A - Agilent Technologies, Inc.</th>\n",
              "      <td>79.074615</td>\n",
              "      <td>63.37</td>\n",
              "      <td>90.13</td>\n",
              "      <td>78.0</td>\n",
              "      <td>2.110004e-04</td>\n",
              "    </tr>\n",
              "    <tr>\n",
              "      <th>AAL -</th>\n",
              "      <td>16.040000</td>\n",
              "      <td>16.04</td>\n",
              "      <td>16.04</td>\n",
              "      <td>1.0</td>\n",
              "      <td>5.487264e-07</td>\n",
              "    </tr>\n",
              "    <tr>\n",
              "      <th>AAL - American Airlines Group Inc.</th>\n",
              "      <td>20.505844</td>\n",
              "      <td>9.39</td>\n",
              "      <td>30.47</td>\n",
              "      <td>77.0</td>\n",
              "      <td>5.401569e-05</td>\n",
              "    </tr>\n",
              "    <tr>\n",
              "      <th>AAP -</th>\n",
              "      <td>126.920000</td>\n",
              "      <td>126.92</td>\n",
              "      <td>126.92</td>\n",
              "      <td>1.0</td>\n",
              "      <td>4.341918e-06</td>\n",
              "    </tr>\n",
              "    <tr>\n",
              "      <th>AAP - Advance Auto Parts, Inc.</th>\n",
              "      <td>127.387532</td>\n",
              "      <td>75.03</td>\n",
              "      <td>160.57</td>\n",
              "      <td>77.0</td>\n",
              "      <td>3.355592e-04</td>\n",
              "    </tr>\n",
              "    <tr>\n",
              "      <th>...</th>\n",
              "      <td>...</td>\n",
              "      <td>...</td>\n",
              "      <td>...</td>\n",
              "      <td>...</td>\n",
              "      <td>...</td>\n",
              "    </tr>\n",
              "    <tr>\n",
              "      <th>ZS -</th>\n",
              "      <td>52.693333</td>\n",
              "      <td>51.33</td>\n",
              "      <td>53.39</td>\n",
              "      <td>3.0</td>\n",
              "      <td>5.407897e-06</td>\n",
              "    </tr>\n",
              "    <tr>\n",
              "      <th>ZS - Zscaler, Inc.</th>\n",
              "      <td>58.650500</td>\n",
              "      <td>39.50</td>\n",
              "      <td>70.51</td>\n",
              "      <td>40.0</td>\n",
              "      <td>8.025706e-05</td>\n",
              "    </tr>\n",
              "    <tr>\n",
              "      <th>ZTS - Zoetis Inc.</th>\n",
              "      <td>128.024889</td>\n",
              "      <td>92.66</td>\n",
              "      <td>144.94</td>\n",
              "      <td>90.0</td>\n",
              "      <td>3.941744e-04</td>\n",
              "    </tr>\n",
              "    <tr>\n",
              "      <th>ZYNE -</th>\n",
              "      <td>4.163333</td>\n",
              "      <td>4.10</td>\n",
              "      <td>4.21</td>\n",
              "      <td>3.0</td>\n",
              "      <td>4.272814e-07</td>\n",
              "    </tr>\n",
              "    <tr>\n",
              "      <th>ZYNE - Zynerba Pharmaceuticals, Inc.</th>\n",
              "      <td>4.222143</td>\n",
              "      <td>2.90</td>\n",
              "      <td>6.02</td>\n",
              "      <td>42.0</td>\n",
              "      <td>6.066438e-06</td>\n",
              "    </tr>\n",
              "  </tbody>\n",
              "</table>\n",
              "<p>1486 rows × 5 columns</p>\n",
              "</div>"
            ],
            "text/plain": [
              "                                      avg_price_at_close  ...           mix\n",
              "company_name                                              ...              \n",
              "A - Agilent Technologies, Inc.                 79.074615  ...  2.110004e-04\n",
              "AAL -                                          16.040000  ...  5.487264e-07\n",
              "AAL - American Airlines Group Inc.             20.505844  ...  5.401569e-05\n",
              "AAP -                                         126.920000  ...  4.341918e-06\n",
              "AAP - Advance Auto Parts, Inc.                127.387532  ...  3.355592e-04\n",
              "...                                                  ...  ...           ...\n",
              "ZS -                                           52.693333  ...  5.407897e-06\n",
              "ZS - Zscaler, Inc.                             58.650500  ...  8.025706e-05\n",
              "ZTS - Zoetis Inc.                             128.024889  ...  3.941744e-04\n",
              "ZYNE -                                          4.163333  ...  4.272814e-07\n",
              "ZYNE - Zynerba Pharmaceuticals, Inc.            4.222143  ...  6.066438e-06\n",
              "\n",
              "[1486 rows x 5 columns]"
            ]
          },
          "metadata": {
            "tags": []
          },
          "execution_count": 4
        }
      ]
    },
    {
      "cell_type": "markdown",
      "metadata": {
        "id": "RqTdVKhKP3Kl"
      },
      "source": [
        "###3. Write 1-3 paragraphs to explain the differences or challenges when you applied the function to your chosen dataframe."
      ]
    },
    {
      "cell_type": "markdown",
      "metadata": {
        "id": "tUkOf1OuP5_d"
      },
      "source": [
        "There really were not any challenges when applying the summarize_data() function to my data set (stocks_yahoo).  I had to change the groupby to use \"company_name\" and the aggregation methods inside the summarize_data() function to run against the \"price_at_close\" column.  But everything else worked as expected."
      ]
    }
  ]
}