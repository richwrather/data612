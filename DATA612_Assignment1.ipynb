{
  "nbformat": 4,
  "nbformat_minor": 0,
  "metadata": {
    "colab": {
      "name": "DATA612-Assignment1.ipynb",
      "provenance": [],
      "authorship_tag": "ABX9TyM5IVBXM5IKI7ISvpeuA6vS",
      "include_colab_link": true
    },
    "kernelspec": {
      "name": "python3",
      "display_name": "Python 3"
    },
    "language_info": {
      "name": "python"
    }
  },
  "cells": [
    {
      "cell_type": "markdown",
      "metadata": {
        "id": "view-in-github",
        "colab_type": "text"
      },
      "source": [
        "<a href=\"https://colab.research.google.com/github/richwrather/data612/blob/main/DATA612_Assignment1.ipynb\" target=\"_parent\"><img src=\"https://colab.research.google.com/assets/colab-badge.svg\" alt=\"Open In Colab\"/></a>"
      ]
    },
    {
      "cell_type": "markdown",
      "metadata": {
        "id": "W0aaJ9rtvUxe"
      },
      "source": [
        "##**Name: Richard Wrather**\n",
        "###**Assignment 1**"
      ]
    },
    {
      "cell_type": "markdown",
      "metadata": {
        "id": "GjpAza1Ivqux"
      },
      "source": [
        "Load the stocks_yahoo.csv dataset"
      ]
    },
    {
      "cell_type": "code",
      "metadata": {
        "colab": {
          "base_uri": "https://localhost:8080/"
        },
        "id": "s5KsLTerspjV",
        "outputId": "d6d48c93-0636-41d4-d84f-ae8135255a82"
      },
      "source": [
        "import pandas as pd\n",
        "df = pd.read_csv(\"https://raw.githubusercontent.com/frankData612/data_612/master/stock_data/stocks_yahoo.csv\")\n"
      ],
      "execution_count": 1,
      "outputs": [
        {
          "output_type": "stream",
          "text": [
            "/usr/local/lib/python3.7/dist-packages/IPython/core/interactiveshell.py:2718: DtypeWarning: Columns (10) have mixed types.Specify dtype option on import or set low_memory=False.\n",
            "  interactivity=interactivity, compiler=compiler, result=result)\n"
          ],
          "name": "stderr"
        }
      ]
    },
    {
      "cell_type": "markdown",
      "metadata": {
        "id": "ONcVwXWxv7GA"
      },
      "source": [
        "Print the first 10 records"
      ]
    },
    {
      "cell_type": "code",
      "metadata": {
        "colab": {
          "base_uri": "https://localhost:8080/",
          "height": 893
        },
        "id": "Mnm336jYtGLR",
        "outputId": "fb2b7cac-71bc-444e-81a2-8a8c6c3ebb5d"
      },
      "source": [
        "df.head(10)"
      ],
      "execution_count": 2,
      "outputs": [
        {
          "output_type": "execute_result",
          "data": {
            "text/html": [
              "<div>\n",
              "<style scoped>\n",
              "    .dataframe tbody tr th:only-of-type {\n",
              "        vertical-align: middle;\n",
              "    }\n",
              "\n",
              "    .dataframe tbody tr th {\n",
              "        vertical-align: top;\n",
              "    }\n",
              "\n",
              "    .dataframe thead th {\n",
              "        text-align: right;\n",
              "    }\n",
              "</style>\n",
              "<table border=\"1\" class=\"dataframe\">\n",
              "  <thead>\n",
              "    <tr style=\"text-align: right;\">\n",
              "      <th></th>\n",
              "      <th>no</th>\n",
              "      <th>date</th>\n",
              "      <th>company_name</th>\n",
              "      <th>price_at_close</th>\n",
              "      <th>price_change</th>\n",
              "      <th>price_after_hours</th>\n",
              "      <th>previous_close</th>\n",
              "      <th>today opened</th>\n",
              "      <th>price range</th>\n",
              "      <th>52 week range</th>\n",
              "      <th>volume</th>\n",
              "      <th>average volume</th>\n",
              "      <th>market cap</th>\n",
              "      <th>beta (3Y Monthly)</th>\n",
              "      <th>PE Ratio</th>\n",
              "      <th>EPS</th>\n",
              "      <th>earnings date</th>\n",
              "      <th>Dividend Yield</th>\n",
              "      <th>1Y target est</th>\n",
              "    </tr>\n",
              "  </thead>\n",
              "  <tbody>\n",
              "    <tr>\n",
              "      <th>0</th>\n",
              "      <td>1</td>\n",
              "      <td>Nov 21 2019</td>\n",
              "      <td>GOOG - Alphabet Inc.</td>\n",
              "      <td>1301.35</td>\n",
              "      <td>-1.70 (-0.13%)</td>\n",
              "      <td>1301.35</td>\n",
              "      <td>1303.05</td>\n",
              "      <td>1301.48</td>\n",
              "      <td>1,293.01 - 1,312.45</td>\n",
              "      <td>970.11 - 1,335.53</td>\n",
              "      <td>825205</td>\n",
              "      <td>1280155.0</td>\n",
              "      <td>897.113B</td>\n",
              "      <td>1.01</td>\n",
              "      <td>27.93</td>\n",
              "      <td>46.60</td>\n",
              "      <td>NaN</td>\n",
              "      <td>N/A (N/A)</td>\n",
              "      <td>1487.52</td>\n",
              "    </tr>\n",
              "    <tr>\n",
              "      <th>1</th>\n",
              "      <td>2</td>\n",
              "      <td>Nov 21 2019</td>\n",
              "      <td>GOOGL - Alphabet Inc.</td>\n",
              "      <td>1300.14</td>\n",
              "      <td>-1.72 (-0.13%)</td>\n",
              "      <td>1300.14</td>\n",
              "      <td>1301.86</td>\n",
              "      <td>1299.25</td>\n",
              "      <td>1,290.75 - 1,311.04</td>\n",
              "      <td>977.66 - 1,333.92</td>\n",
              "      <td>1.05818e+06</td>\n",
              "      <td>1296875.0</td>\n",
              "      <td>897.098B</td>\n",
              "      <td>1.01</td>\n",
              "      <td>27.90</td>\n",
              "      <td>46.60</td>\n",
              "      <td>Feb 3, 2020 - Feb 7, 2020</td>\n",
              "      <td>N/A (N/A)</td>\n",
              "      <td>1459.33</td>\n",
              "    </tr>\n",
              "    <tr>\n",
              "      <th>2</th>\n",
              "      <td>3</td>\n",
              "      <td>Nov 21 2019</td>\n",
              "      <td>IBM - International Business Machines Corporation</td>\n",
              "      <td>133.84</td>\n",
              "      <td>+0.64 (+0.48%)</td>\n",
              "      <td>133.84</td>\n",
              "      <td>133.20</td>\n",
              "      <td>133.40</td>\n",
              "      <td>132.98 - 134.17</td>\n",
              "      <td>105.94 - 152.95</td>\n",
              "      <td>2.73226e+06</td>\n",
              "      <td>3483052.0</td>\n",
              "      <td>118.534B</td>\n",
              "      <td>1.34</td>\n",
              "      <td>15.55</td>\n",
              "      <td>8.60</td>\n",
              "      <td>21-Jan-20</td>\n",
              "      <td>6.48 (4.86%)</td>\n",
              "      <td>148.30</td>\n",
              "    </tr>\n",
              "    <tr>\n",
              "      <th>3</th>\n",
              "      <td>4</td>\n",
              "      <td>Nov 21 2019</td>\n",
              "      <td>MSFT - Microsoft Corporation</td>\n",
              "      <td>149.48</td>\n",
              "      <td>-0.14 (-0.09%)</td>\n",
              "      <td>149.48</td>\n",
              "      <td>149.62</td>\n",
              "      <td>149.40</td>\n",
              "      <td>148.51 - 149.80</td>\n",
              "      <td>93.96 - 151.33</td>\n",
              "      <td>1.61251e+07</td>\n",
              "      <td>22813109.0</td>\n",
              "      <td>1.14T</td>\n",
              "      <td>1.23</td>\n",
              "      <td>28.20</td>\n",
              "      <td>5.30</td>\n",
              "      <td>Jan 28, 2020 - Feb 3, 2020</td>\n",
              "      <td>2.04 (1.36%)</td>\n",
              "      <td>160.16</td>\n",
              "    </tr>\n",
              "    <tr>\n",
              "      <th>4</th>\n",
              "      <td>5</td>\n",
              "      <td>Nov 21 2019</td>\n",
              "      <td>AAPL - Apple Inc.</td>\n",
              "      <td>262.01</td>\n",
              "      <td>-1.18 (-0.45%)</td>\n",
              "      <td>262.01</td>\n",
              "      <td>263.19</td>\n",
              "      <td>263.69</td>\n",
              "      <td>261.18 - 264.01</td>\n",
              "      <td>142.00 - 268.00</td>\n",
              "      <td>2.87681e+07</td>\n",
              "      <td>25813040.0</td>\n",
              "      <td>1.184T</td>\n",
              "      <td>1.25</td>\n",
              "      <td>22.04</td>\n",
              "      <td>11.89</td>\n",
              "      <td>Jan 27, 2020 - Jan 31, 2020</td>\n",
              "      <td>3.08 (1.16%)</td>\n",
              "      <td>257.21</td>\n",
              "    </tr>\n",
              "    <tr>\n",
              "      <th>5</th>\n",
              "      <td>6</td>\n",
              "      <td>Nov 21 2019</td>\n",
              "      <td>AMZN - Amazon.com, Inc.</td>\n",
              "      <td>1734.71</td>\n",
              "      <td>-10.82 (-0.62%)</td>\n",
              "      <td>1734.71</td>\n",
              "      <td>1745.53</td>\n",
              "      <td>1743.00</td>\n",
              "      <td>1,730.46 - 1,746.80</td>\n",
              "      <td>1,307.00 - 2,035.80</td>\n",
              "      <td>2.36391e+06</td>\n",
              "      <td>2944623.0</td>\n",
              "      <td>860.064B</td>\n",
              "      <td>1.57</td>\n",
              "      <td>76.87</td>\n",
              "      <td>22.57</td>\n",
              "      <td>Jan 29, 2020 - Feb 3, 2020</td>\n",
              "      <td>N/A (N/A)</td>\n",
              "      <td>2183.86</td>\n",
              "    </tr>\n",
              "    <tr>\n",
              "      <th>6</th>\n",
              "      <td>7</td>\n",
              "      <td>Nov 21 2019</td>\n",
              "      <td>CGC - Canopy Growth Corporation</td>\n",
              "      <td>20.29</td>\n",
              "      <td>+2.65 (+15.02%)</td>\n",
              "      <td>20.29</td>\n",
              "      <td>17.64</td>\n",
              "      <td>19.33</td>\n",
              "      <td>18.54 - 21.56</td>\n",
              "      <td>13.81 - 52.74</td>\n",
              "      <td>3.816e+07</td>\n",
              "      <td>5954800.0</td>\n",
              "      <td>7.091B</td>\n",
              "      <td>4.11</td>\n",
              "      <td>NaN</td>\n",
              "      <td>-1.79</td>\n",
              "      <td>NaN</td>\n",
              "      <td>N/A (N/A)</td>\n",
              "      <td>NaN</td>\n",
              "    </tr>\n",
              "    <tr>\n",
              "      <th>7</th>\n",
              "      <td>8</td>\n",
              "      <td>Nov 21 2019</td>\n",
              "      <td>ORCL - Oracle Corporation</td>\n",
              "      <td>56.23</td>\n",
              "      <td>-0.01 (-0.02%)</td>\n",
              "      <td>56.23</td>\n",
              "      <td>56.24</td>\n",
              "      <td>56.22</td>\n",
              "      <td>56.12 - 56.59</td>\n",
              "      <td>42.40 - 60.50</td>\n",
              "      <td>7.54475e+06</td>\n",
              "      <td>11752826.0</td>\n",
              "      <td>184.576B</td>\n",
              "      <td>1.15</td>\n",
              "      <td>18.41</td>\n",
              "      <td>3.06</td>\n",
              "      <td>Dec 16, 2019 - Dec 20, 2019</td>\n",
              "      <td>0.96 (1.70%)</td>\n",
              "      <td>56.27</td>\n",
              "    </tr>\n",
              "    <tr>\n",
              "      <th>8</th>\n",
              "      <td>9</td>\n",
              "      <td>Nov 21 2019</td>\n",
              "      <td>FIVN - Five9, Inc.</td>\n",
              "      <td>65.53</td>\n",
              "      <td>+0.37 (+0.57%)</td>\n",
              "      <td>65.53</td>\n",
              "      <td>65.16</td>\n",
              "      <td>65.29</td>\n",
              "      <td>64.97 - 66.19</td>\n",
              "      <td>36.46 - 66.19</td>\n",
              "      <td>465422</td>\n",
              "      <td>637576.0</td>\n",
              "      <td>4.002B</td>\n",
              "      <td>0.64</td>\n",
              "      <td>NaN</td>\n",
              "      <td>-0.03</td>\n",
              "      <td>Feb 17, 2020 - Feb 21, 2020</td>\n",
              "      <td>N/A (N/A)</td>\n",
              "      <td>66.40</td>\n",
              "    </tr>\n",
              "    <tr>\n",
              "      <th>9</th>\n",
              "      <td>10</td>\n",
              "      <td>Nov 21 2019</td>\n",
              "      <td>JPM - JPMorgan Chase &amp; Co.</td>\n",
              "      <td>129.93</td>\n",
              "      <td>+0.30 (+0.23%)</td>\n",
              "      <td>129.93</td>\n",
              "      <td>129.63</td>\n",
              "      <td>130.00</td>\n",
              "      <td>129.39 - 130.72</td>\n",
              "      <td>91.11 - 131.29</td>\n",
              "      <td>7.03661e+06</td>\n",
              "      <td>10913607.0</td>\n",
              "      <td>407.523B</td>\n",
              "      <td>1.20</td>\n",
              "      <td>12.83</td>\n",
              "      <td>10.13</td>\n",
              "      <td>14-Jan-20</td>\n",
              "      <td>3.60 (2.78%)</td>\n",
              "      <td>123.71</td>\n",
              "    </tr>\n",
              "  </tbody>\n",
              "</table>\n",
              "</div>"
            ],
            "text/plain": [
              "   no         date  ... Dividend Yield  1Y target est\n",
              "0   1  Nov 21 2019  ...      N/A (N/A)        1487.52\n",
              "1   2  Nov 21 2019  ...      N/A (N/A)        1459.33\n",
              "2   3  Nov 21 2019  ...   6.48 (4.86%)         148.30\n",
              "3   4  Nov 21 2019  ...   2.04 (1.36%)         160.16\n",
              "4   5  Nov 21 2019  ...   3.08 (1.16%)         257.21\n",
              "5   6  Nov 21 2019  ...      N/A (N/A)        2183.86\n",
              "6   7  Nov 21 2019  ...      N/A (N/A)            NaN\n",
              "7   8  Nov 21 2019  ...   0.96 (1.70%)          56.27\n",
              "8   9  Nov 21 2019  ...      N/A (N/A)          66.40\n",
              "9  10  Nov 21 2019  ...   3.60 (2.78%)         123.71\n",
              "\n",
              "[10 rows x 19 columns]"
            ]
          },
          "metadata": {
            "tags": []
          },
          "execution_count": 2
        }
      ]
    },
    {
      "cell_type": "markdown",
      "metadata": {
        "id": "ZEh3xcgQv_8Y"
      },
      "source": [
        "Print the last 10 records"
      ]
    },
    {
      "cell_type": "code",
      "metadata": {
        "colab": {
          "base_uri": "https://localhost:8080/",
          "height": 807
        },
        "id": "zlcE9S5ytLK-",
        "outputId": "0ab10f0c-7fc5-4a1f-aed5-05e96a87137e"
      },
      "source": [
        "df.tail(10)"
      ],
      "execution_count": 3,
      "outputs": [
        {
          "output_type": "execute_result",
          "data": {
            "text/html": [
              "<div>\n",
              "<style scoped>\n",
              "    .dataframe tbody tr th:only-of-type {\n",
              "        vertical-align: middle;\n",
              "    }\n",
              "\n",
              "    .dataframe tbody tr th {\n",
              "        vertical-align: top;\n",
              "    }\n",
              "\n",
              "    .dataframe thead th {\n",
              "        text-align: right;\n",
              "    }\n",
              "</style>\n",
              "<table border=\"1\" class=\"dataframe\">\n",
              "  <thead>\n",
              "    <tr style=\"text-align: right;\">\n",
              "      <th></th>\n",
              "      <th>no</th>\n",
              "      <th>date</th>\n",
              "      <th>company_name</th>\n",
              "      <th>price_at_close</th>\n",
              "      <th>price_change</th>\n",
              "      <th>price_after_hours</th>\n",
              "      <th>previous_close</th>\n",
              "      <th>today opened</th>\n",
              "      <th>price range</th>\n",
              "      <th>52 week range</th>\n",
              "      <th>volume</th>\n",
              "      <th>average volume</th>\n",
              "      <th>market cap</th>\n",
              "      <th>beta (3Y Monthly)</th>\n",
              "      <th>PE Ratio</th>\n",
              "      <th>EPS</th>\n",
              "      <th>earnings date</th>\n",
              "      <th>Dividend Yield</th>\n",
              "      <th>1Y target est</th>\n",
              "    </tr>\n",
              "  </thead>\n",
              "  <tbody>\n",
              "    <tr>\n",
              "      <th>67895</th>\n",
              "      <td>67896</td>\n",
              "      <td>Apr 28 2020</td>\n",
              "      <td>MDB - MongoDB, Inc.</td>\n",
              "      <td>154.75</td>\n",
              "      <td>-5.62 (-3.51%)</td>\n",
              "      <td>154.75</td>\n",
              "      <td>160.38</td>\n",
              "      <td>164.35</td>\n",
              "      <td>153.95 - 163.00</td>\n",
              "      <td>93.81 - 184.78</td>\n",
              "      <td>709497.00</td>\n",
              "      <td>1276222.0</td>\n",
              "      <td>8.908B</td>\n",
              "      <td>0.52</td>\n",
              "      <td>NaN</td>\n",
              "      <td>-3.14</td>\n",
              "      <td>17-Mar-20</td>\n",
              "      <td>N/A (N/A)</td>\n",
              "      <td>137.25</td>\n",
              "    </tr>\n",
              "    <tr>\n",
              "      <th>67896</th>\n",
              "      <td>67897</td>\n",
              "      <td>Apr 28 2020</td>\n",
              "      <td>BHE - Benchmark Electronics, Inc.</td>\n",
              "      <td>22.12</td>\n",
              "      <td>+0.45 (+2.08%)</td>\n",
              "      <td>22.12</td>\n",
              "      <td>21.67</td>\n",
              "      <td>22.24</td>\n",
              "      <td>21.84 - 22.43</td>\n",
              "      <td>14.06 - 37.36</td>\n",
              "      <td>228007.00</td>\n",
              "      <td>328088.0</td>\n",
              "      <td>805.511M</td>\n",
              "      <td>1.20</td>\n",
              "      <td>36.87</td>\n",
              "      <td>0.60</td>\n",
              "      <td>29-Apr-20</td>\n",
              "      <td>0.64 (2.95%)</td>\n",
              "      <td>24.00</td>\n",
              "    </tr>\n",
              "    <tr>\n",
              "      <th>67897</th>\n",
              "      <td>67898</td>\n",
              "      <td>Apr 28 2020</td>\n",
              "      <td>JBL - Jabil Inc.</td>\n",
              "      <td>26.85</td>\n",
              "      <td>+0.36 (+1.36%)</td>\n",
              "      <td>26.85</td>\n",
              "      <td>26.49</td>\n",
              "      <td>27.43</td>\n",
              "      <td>26.41 - 27.60</td>\n",
              "      <td>17.63 - 44.20</td>\n",
              "      <td>941616.00</td>\n",
              "      <td>1798717.0</td>\n",
              "      <td>4.047B</td>\n",
              "      <td>1.26</td>\n",
              "      <td>31.44</td>\n",
              "      <td>0.85</td>\n",
              "      <td>Jun 16, 2020 - Jun 22, 2020</td>\n",
              "      <td>0.32 (1.21%)</td>\n",
              "      <td>34.13</td>\n",
              "    </tr>\n",
              "    <tr>\n",
              "      <th>67898</th>\n",
              "      <td>67899</td>\n",
              "      <td>Apr 28 2020</td>\n",
              "      <td>SANM - Sanmina Corporation</td>\n",
              "      <td>26.93</td>\n",
              "      <td>-0.98 (-3.51%)</td>\n",
              "      <td>26.93</td>\n",
              "      <td>27.91</td>\n",
              "      <td>26.51</td>\n",
              "      <td>25.69 - 27.77</td>\n",
              "      <td>18.34 - 34.96</td>\n",
              "      <td>674415.00</td>\n",
              "      <td>553044.0</td>\n",
              "      <td>1.902B</td>\n",
              "      <td>NaN</td>\n",
              "      <td>18.43</td>\n",
              "      <td>1.46</td>\n",
              "      <td>Jul 27, 2020 - Jul 31, 2020</td>\n",
              "      <td>N/A (N/A)</td>\n",
              "      <td>28.00</td>\n",
              "    </tr>\n",
              "    <tr>\n",
              "      <th>67899</th>\n",
              "      <td>67900</td>\n",
              "      <td>Apr 28 2020</td>\n",
              "      <td>PLXS - Plexus Corp.</td>\n",
              "      <td>62.36</td>\n",
              "      <td>+1.80 (+2.97%)</td>\n",
              "      <td>62.36</td>\n",
              "      <td>60.56</td>\n",
              "      <td>61.77</td>\n",
              "      <td>61.77 - 64.18</td>\n",
              "      <td>35.16 - 86.53</td>\n",
              "      <td>220017.00</td>\n",
              "      <td>188241.0</td>\n",
              "      <td>1.82B</td>\n",
              "      <td>1.04</td>\n",
              "      <td>17.83</td>\n",
              "      <td>3.50</td>\n",
              "      <td>Jul 15, 2020 - Jul 20, 2020</td>\n",
              "      <td>N/A (N/A)</td>\n",
              "      <td>66.75</td>\n",
              "    </tr>\n",
              "    <tr>\n",
              "      <th>67900</th>\n",
              "      <td>67901</td>\n",
              "      <td>Apr 28 2020</td>\n",
              "      <td>FLEX - Flex Ltd.</td>\n",
              "      <td>9.11</td>\n",
              "      <td>+0.30 (+3.41%)</td>\n",
              "      <td>9.11</td>\n",
              "      <td>8.81</td>\n",
              "      <td>9.11</td>\n",
              "      <td>8.87 - 9.31</td>\n",
              "      <td>5.36 - 14.00</td>\n",
              "      <td>4175426.00</td>\n",
              "      <td>5924769.0</td>\n",
              "      <td>4.591B</td>\n",
              "      <td>1.88</td>\n",
              "      <td>NaN</td>\n",
              "      <td>-0.05</td>\n",
              "      <td>7-May-20</td>\n",
              "      <td>N/A (N/A)</td>\n",
              "      <td>12.83</td>\n",
              "    </tr>\n",
              "    <tr>\n",
              "      <th>67901</th>\n",
              "      <td>67902</td>\n",
              "      <td>Apr 28 2020</td>\n",
              "      <td>MEI - Methode Electronics, Inc.</td>\n",
              "      <td>29.84</td>\n",
              "      <td>+0.32 (+1.08%)</td>\n",
              "      <td>29.84</td>\n",
              "      <td>29.52</td>\n",
              "      <td>30.19</td>\n",
              "      <td>29.70 - 30.75</td>\n",
              "      <td>21.76 - 41.70</td>\n",
              "      <td>206184.00</td>\n",
              "      <td>236257.0</td>\n",
              "      <td>1.107B</td>\n",
              "      <td>1.43</td>\n",
              "      <td>9.72</td>\n",
              "      <td>3.07</td>\n",
              "      <td>Jun 18, 2020 - Jun 22, 2020</td>\n",
              "      <td>0.44 (1.49%)</td>\n",
              "      <td>33.33</td>\n",
              "    </tr>\n",
              "    <tr>\n",
              "      <th>67902</th>\n",
              "      <td>67903</td>\n",
              "      <td>Apr 28 2020</td>\n",
              "      <td>IEC - IEC Electronics Corp.</td>\n",
              "      <td>7.01</td>\n",
              "      <td>0.00 (0.00%)</td>\n",
              "      <td>7.01</td>\n",
              "      <td>7.01</td>\n",
              "      <td>7.10</td>\n",
              "      <td>6.93 - 7.10</td>\n",
              "      <td>5.00 - 9.57</td>\n",
              "      <td>3880.00</td>\n",
              "      <td>34352.0</td>\n",
              "      <td>72.812M</td>\n",
              "      <td>0.94</td>\n",
              "      <td>15.24</td>\n",
              "      <td>0.46</td>\n",
              "      <td>6-May-20</td>\n",
              "      <td>N/A (N/A)</td>\n",
              "      <td>11.50</td>\n",
              "    </tr>\n",
              "    <tr>\n",
              "      <th>67903</th>\n",
              "      <td>67904</td>\n",
              "      <td>Apr 28 2020</td>\n",
              "      <td>MGLN - Magellan Health, Inc.</td>\n",
              "      <td>55.11</td>\n",
              "      <td>-0.03 (-0.05%)</td>\n",
              "      <td>55.11</td>\n",
              "      <td>55.14</td>\n",
              "      <td>54.74</td>\n",
              "      <td>53.28 - 56.21</td>\n",
              "      <td>30.60 - 81.04</td>\n",
              "      <td>167075.00</td>\n",
              "      <td>193042.0</td>\n",
              "      <td>1.361B</td>\n",
              "      <td>0.97</td>\n",
              "      <td>24.17</td>\n",
              "      <td>2.28</td>\n",
              "      <td>11-May-20</td>\n",
              "      <td>N/A (N/A)</td>\n",
              "      <td>67.67</td>\n",
              "    </tr>\n",
              "    <tr>\n",
              "      <th>67904</th>\n",
              "      <td>67905</td>\n",
              "      <td>Apr 28 2020</td>\n",
              "      <td>ZS - Zscaler, Inc.</td>\n",
              "      <td>66.72</td>\n",
              "      <td>-3.75 (-5.32%)</td>\n",
              "      <td>66.72</td>\n",
              "      <td>70.47</td>\n",
              "      <td>71.00</td>\n",
              "      <td>66.26 - 71.20</td>\n",
              "      <td>35.00 - 89.54</td>\n",
              "      <td>3035697.00</td>\n",
              "      <td>3062403.0</td>\n",
              "      <td>8.63B</td>\n",
              "      <td>0.54</td>\n",
              "      <td>NaN</td>\n",
              "      <td>-0.50</td>\n",
              "      <td>20-Feb-20</td>\n",
              "      <td>N/A (N/A)</td>\n",
              "      <td>67.62</td>\n",
              "    </tr>\n",
              "  </tbody>\n",
              "</table>\n",
              "</div>"
            ],
            "text/plain": [
              "          no         date  ... Dividend Yield  1Y target est\n",
              "67895  67896  Apr 28 2020  ...      N/A (N/A)         137.25\n",
              "67896  67897  Apr 28 2020  ...   0.64 (2.95%)          24.00\n",
              "67897  67898  Apr 28 2020  ...   0.32 (1.21%)          34.13\n",
              "67898  67899  Apr 28 2020  ...      N/A (N/A)          28.00\n",
              "67899  67900  Apr 28 2020  ...      N/A (N/A)          66.75\n",
              "67900  67901  Apr 28 2020  ...      N/A (N/A)          12.83\n",
              "67901  67902  Apr 28 2020  ...   0.44 (1.49%)          33.33\n",
              "67902  67903  Apr 28 2020  ...      N/A (N/A)          11.50\n",
              "67903  67904  Apr 28 2020  ...      N/A (N/A)          67.67\n",
              "67904  67905  Apr 28 2020  ...      N/A (N/A)          67.62\n",
              "\n",
              "[10 rows x 19 columns]"
            ]
          },
          "metadata": {
            "tags": []
          },
          "execution_count": 3
        }
      ]
    },
    {
      "cell_type": "markdown",
      "metadata": {
        "id": "M3jnGAywwE6d"
      },
      "source": [
        "Print the column names"
      ]
    },
    {
      "cell_type": "code",
      "metadata": {
        "colab": {
          "base_uri": "https://localhost:8080/"
        },
        "id": "dgSzIBa0tbCN",
        "outputId": "38375071-eae4-4b1e-cf16-cd4b39a7c439"
      },
      "source": [
        "df.columns"
      ],
      "execution_count": 4,
      "outputs": [
        {
          "output_type": "execute_result",
          "data": {
            "text/plain": [
              "Index(['no', 'date', 'company_name', 'price_at_close', 'price_change',\n",
              "       'price_after_hours', 'previous_close', 'today opened', 'price range',\n",
              "       '52 week range', 'volume', 'average volume', 'market cap',\n",
              "       'beta (3Y Monthly)', 'PE Ratio', 'EPS', 'earnings date',\n",
              "       'Dividend Yield', '1Y target est'],\n",
              "      dtype='object')"
            ]
          },
          "metadata": {
            "tags": []
          },
          "execution_count": 4
        }
      ]
    },
    {
      "cell_type": "markdown",
      "metadata": {
        "id": "vcO84RJTwTI6"
      },
      "source": [
        "Print the type of the dataset"
      ]
    },
    {
      "cell_type": "code",
      "metadata": {
        "colab": {
          "base_uri": "https://localhost:8080/"
        },
        "id": "1b7YlpGAtiaP",
        "outputId": "8985be1a-319f-4ec4-8298-9cc55a9e5ad0"
      },
      "source": [
        "type(df)"
      ],
      "execution_count": 5,
      "outputs": [
        {
          "output_type": "execute_result",
          "data": {
            "text/plain": [
              "pandas.core.frame.DataFrame"
            ]
          },
          "metadata": {
            "tags": []
          },
          "execution_count": 5
        }
      ]
    },
    {
      "cell_type": "markdown",
      "metadata": {
        "id": "7oHQDOI1wXen"
      },
      "source": [
        "Print the number of rows and columns"
      ]
    },
    {
      "cell_type": "code",
      "metadata": {
        "colab": {
          "base_uri": "https://localhost:8080/"
        },
        "id": "ycUxxzCTtxXa",
        "outputId": "081ca8d3-b964-4107-f879-9fec6d9a54e5"
      },
      "source": [
        "df.shape"
      ],
      "execution_count": 6,
      "outputs": [
        {
          "output_type": "execute_result",
          "data": {
            "text/plain": [
              "(67905, 19)"
            ]
          },
          "metadata": {
            "tags": []
          },
          "execution_count": 6
        }
      ]
    },
    {
      "cell_type": "markdown",
      "metadata": {
        "id": "DjpfliYMwbJs"
      },
      "source": [
        "Use groupby() and find the mean of the price_at_close column"
      ]
    },
    {
      "cell_type": "code",
      "metadata": {
        "colab": {
          "base_uri": "https://localhost:8080/"
        },
        "id": "f3ZtbDbVuVP-",
        "outputId": "af2f06fd-b81d-4452-8d90-2c39b48c3dbb"
      },
      "source": [
        "df.groupby('company_name')['price_at_close'].mean()"
      ],
      "execution_count": 7,
      "outputs": [
        {
          "output_type": "execute_result",
          "data": {
            "text/plain": [
              "company_name\n",
              "A - Agilent Technologies, Inc.           79.074615\n",
              "AAL -                                    16.040000\n",
              "AAL - American Airlines Group Inc.       20.505844\n",
              "AAP -                                   126.920000\n",
              "AAP - Advance Auto Parts, Inc.          127.387532\n",
              "                                           ...    \n",
              "ZS -                                     52.693333\n",
              "ZS - Zscaler, Inc.                       58.650500\n",
              "ZTS - Zoetis Inc.                       128.024889\n",
              "ZYNE -                                    4.163333\n",
              "ZYNE - Zynerba Pharmaceuticals, Inc.      4.222143\n",
              "Name: price_at_close, Length: 1486, dtype: float64"
            ]
          },
          "metadata": {
            "tags": []
          },
          "execution_count": 7
        }
      ]
    }
  ]
}